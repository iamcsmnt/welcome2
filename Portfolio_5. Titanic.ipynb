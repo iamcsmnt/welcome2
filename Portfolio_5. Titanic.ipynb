{
 "cells": [
  {
   "cell_type": "markdown",
   "id": "0f3d9767",
   "metadata": {},
   "source": [
    "Целью данного исследования является определение с помощью построения логистической регрессии значимости факторов, влияющих на вероятность выжить во время крушения Титаника.\n",
    "Ссылка на датасет: https://web.stanford.edu/class/archive/cs/cs109/cs109.1166/problem12.html"
   ]
  },
  {
   "cell_type": "code",
   "execution_count": 97,
   "id": "cbd8ae37",
   "metadata": {},
   "outputs": [],
   "source": [
    "import pandas as pd\n",
    "import seaborn as sns\n",
    "import numpy as np\n",
    "import matplotlib.pyplot as plt\n",
    "import datetime\n",
    "import statsmodels.api as sm\n",
    "import statsmodels.formula.api as sf\n",
    "%matplotlib inline"
   ]
  },
  {
   "cell_type": "code",
   "execution_count": 98,
   "id": "a62bf2a7",
   "metadata": {},
   "outputs": [
    {
     "data": {
      "text/html": [
       "<div>\n",
       "<style scoped>\n",
       "    .dataframe tbody tr th:only-of-type {\n",
       "        vertical-align: middle;\n",
       "    }\n",
       "\n",
       "    .dataframe tbody tr th {\n",
       "        vertical-align: top;\n",
       "    }\n",
       "\n",
       "    .dataframe thead th {\n",
       "        text-align: right;\n",
       "    }\n",
       "</style>\n",
       "<table border=\"1\" class=\"dataframe\">\n",
       "  <thead>\n",
       "    <tr style=\"text-align: right;\">\n",
       "      <th></th>\n",
       "      <th>Survived</th>\n",
       "      <th>Pclass</th>\n",
       "      <th>Name</th>\n",
       "      <th>Sex</th>\n",
       "      <th>Age</th>\n",
       "      <th>Siblings/Spouses Aboard</th>\n",
       "      <th>Parents/Children Aboard</th>\n",
       "      <th>Fare</th>\n",
       "    </tr>\n",
       "  </thead>\n",
       "  <tbody>\n",
       "    <tr>\n",
       "      <th>0</th>\n",
       "      <td>0</td>\n",
       "      <td>3</td>\n",
       "      <td>Mr. Owen Harris Braund</td>\n",
       "      <td>male</td>\n",
       "      <td>22.0</td>\n",
       "      <td>1</td>\n",
       "      <td>0</td>\n",
       "      <td>7.2500</td>\n",
       "    </tr>\n",
       "    <tr>\n",
       "      <th>1</th>\n",
       "      <td>1</td>\n",
       "      <td>1</td>\n",
       "      <td>Mrs. John Bradley (Florence Briggs Thayer) Cum...</td>\n",
       "      <td>female</td>\n",
       "      <td>38.0</td>\n",
       "      <td>1</td>\n",
       "      <td>0</td>\n",
       "      <td>71.2833</td>\n",
       "    </tr>\n",
       "    <tr>\n",
       "      <th>2</th>\n",
       "      <td>1</td>\n",
       "      <td>3</td>\n",
       "      <td>Miss. Laina Heikkinen</td>\n",
       "      <td>female</td>\n",
       "      <td>26.0</td>\n",
       "      <td>0</td>\n",
       "      <td>0</td>\n",
       "      <td>7.9250</td>\n",
       "    </tr>\n",
       "    <tr>\n",
       "      <th>3</th>\n",
       "      <td>1</td>\n",
       "      <td>1</td>\n",
       "      <td>Mrs. Jacques Heath (Lily May Peel) Futrelle</td>\n",
       "      <td>female</td>\n",
       "      <td>35.0</td>\n",
       "      <td>1</td>\n",
       "      <td>0</td>\n",
       "      <td>53.1000</td>\n",
       "    </tr>\n",
       "    <tr>\n",
       "      <th>4</th>\n",
       "      <td>0</td>\n",
       "      <td>3</td>\n",
       "      <td>Mr. William Henry Allen</td>\n",
       "      <td>male</td>\n",
       "      <td>35.0</td>\n",
       "      <td>0</td>\n",
       "      <td>0</td>\n",
       "      <td>8.0500</td>\n",
       "    </tr>\n",
       "  </tbody>\n",
       "</table>\n",
       "</div>"
      ],
      "text/plain": [
       "   Survived  Pclass                                               Name  \\\n",
       "0         0       3                             Mr. Owen Harris Braund   \n",
       "1         1       1  Mrs. John Bradley (Florence Briggs Thayer) Cum...   \n",
       "2         1       3                              Miss. Laina Heikkinen   \n",
       "3         1       1        Mrs. Jacques Heath (Lily May Peel) Futrelle   \n",
       "4         0       3                            Mr. William Henry Allen   \n",
       "\n",
       "      Sex   Age  Siblings/Spouses Aboard  Parents/Children Aboard     Fare  \n",
       "0    male  22.0                        1                        0   7.2500  \n",
       "1  female  38.0                        1                        0  71.2833  \n",
       "2  female  26.0                        0                        0   7.9250  \n",
       "3  female  35.0                        1                        0  53.1000  \n",
       "4    male  35.0                        0                        0   8.0500  "
      ]
     },
     "execution_count": 98,
     "metadata": {},
     "output_type": "execute_result"
    }
   ],
   "source": [
    "titanic = pd.read_csv('C://Users/psy_f/Desktop/titanic.csv')\n",
    "titanic.head(5)"
   ]
  },
  {
   "cell_type": "markdown",
   "id": "2f0908c8",
   "metadata": {},
   "source": [
    "Для анализа выживаемости пассажиров Титаника возьмём только следующие данные:\n",
    "1) Survived - выжил ли пассажир \\\n",
    "2) Pclass - в каком классе он плыл на Титанике \\\n",
    "3) Sex - пол пассажира \\\n",
    "4) Age - возраст пассажира на момент крушения"
   ]
  },
  {
   "cell_type": "code",
   "execution_count": 99,
   "id": "393c0844",
   "metadata": {},
   "outputs": [],
   "source": [
    "titanic = titanic[['Survived','Pclass','Sex','Age']]"
   ]
  },
  {
   "cell_type": "code",
   "execution_count": 100,
   "id": "7240d1cd",
   "metadata": {},
   "outputs": [
    {
     "data": {
      "text/html": [
       "<div>\n",
       "<style scoped>\n",
       "    .dataframe tbody tr th:only-of-type {\n",
       "        vertical-align: middle;\n",
       "    }\n",
       "\n",
       "    .dataframe tbody tr th {\n",
       "        vertical-align: top;\n",
       "    }\n",
       "\n",
       "    .dataframe thead th {\n",
       "        text-align: right;\n",
       "    }\n",
       "</style>\n",
       "<table border=\"1\" class=\"dataframe\">\n",
       "  <thead>\n",
       "    <tr style=\"text-align: right;\">\n",
       "      <th></th>\n",
       "      <th>Survived</th>\n",
       "      <th>Pclass</th>\n",
       "      <th>Sex</th>\n",
       "      <th>Age</th>\n",
       "    </tr>\n",
       "  </thead>\n",
       "  <tbody>\n",
       "    <tr>\n",
       "      <th>0</th>\n",
       "      <td>0</td>\n",
       "      <td>3</td>\n",
       "      <td>male</td>\n",
       "      <td>22.0</td>\n",
       "    </tr>\n",
       "    <tr>\n",
       "      <th>1</th>\n",
       "      <td>1</td>\n",
       "      <td>1</td>\n",
       "      <td>female</td>\n",
       "      <td>38.0</td>\n",
       "    </tr>\n",
       "    <tr>\n",
       "      <th>2</th>\n",
       "      <td>1</td>\n",
       "      <td>3</td>\n",
       "      <td>female</td>\n",
       "      <td>26.0</td>\n",
       "    </tr>\n",
       "    <tr>\n",
       "      <th>3</th>\n",
       "      <td>1</td>\n",
       "      <td>1</td>\n",
       "      <td>female</td>\n",
       "      <td>35.0</td>\n",
       "    </tr>\n",
       "    <tr>\n",
       "      <th>4</th>\n",
       "      <td>0</td>\n",
       "      <td>3</td>\n",
       "      <td>male</td>\n",
       "      <td>35.0</td>\n",
       "    </tr>\n",
       "  </tbody>\n",
       "</table>\n",
       "</div>"
      ],
      "text/plain": [
       "   Survived  Pclass     Sex   Age\n",
       "0         0       3    male  22.0\n",
       "1         1       1  female  38.0\n",
       "2         1       3  female  26.0\n",
       "3         1       1  female  35.0\n",
       "4         0       3    male  35.0"
      ]
     },
     "execution_count": 100,
     "metadata": {},
     "output_type": "execute_result"
    }
   ],
   "source": [
    "titanic.head(5)"
   ]
  },
  {
   "cell_type": "code",
   "execution_count": 120,
   "id": "092b2158",
   "metadata": {
    "scrolled": true
   },
   "outputs": [
    {
     "data": {
      "text/plain": [
       "Text(0.5, 1.0, 'Распределение выживаемости пассажиров')"
      ]
     },
     "execution_count": 120,
     "metadata": {},
     "output_type": "execute_result"
    },
    {
     "data": {
      "image/png": "[encoded data removed]",
      "text/plain": [
       "<Figure size 432x288 with 1 Axes>"
      ]
     },
     "metadata": {
      "needs_background": "light"
     },
     "output_type": "display_data"
    }
   ],
   "source": [
    "sns.countplot (x='Survived', data = titanic, palette = 'magma')\n",
    "plt.ylabel ('Количество')\n",
    "plt.xlabel ('Выжил')\n",
    "plt.title ('Распределение выживаемости пассажиров')"
   ]
  },
  {
   "cell_type": "markdown",
   "id": "e638d7d6",
   "metadata": {},
   "source": [
    "Из графика выше можно сделать вывод, что большинство пассажиров Титаника погибли при крушении."
   ]
  },
  {
   "cell_type": "markdown",
   "id": "e2de6909",
   "metadata": {},
   "source": [
    "Следующий график показывает распределение выживших и погибших пассажиров в зависимости от пола пассажира. На основании этого графика можно сделать предварительный вывод о том, что подавляющее число мужчин, в отличие от женщин, погибло во время крушения."
   ]
  },
  {
   "cell_type": "code",
   "execution_count": 145,
   "id": "35f3fce7",
   "metadata": {
    "scrolled": true
   },
   "outputs": [
    {
     "data": {
      "text/plain": [
       "Text(0.5, 1.0, 'Выживаемость на Титанике\\nв зависимости от пола пассажира')"
      ]
     },
     "execution_count": 145,
     "metadata": {},
     "output_type": "execute_result"
    },
    {
     "data": {
      "image/png": "[encoded data removed]",
      "text/plain": [
       "<Figure size 432x288 with 1 Axes>"
      ]
     },
     "metadata": {
      "needs_background": "light"
     },
     "output_type": "display_data"
    }
   ],
   "source": [
    "sns.countplot (x='Survived', data = titanic, hue ='Sex', palette = 'magma')\n",
    "plt.ylabel ('Количество')\n",
    "plt.xlabel ('Выжил')\n",
    "plt.title ('Выживаемость на Титанике\\nв зависимости от пола пассажира')"
   ]
  },
  {
   "cell_type": "markdown",
   "id": "e759bb55",
   "metadata": {},
   "source": [
    "График ниже показывает распределение выживших и погибших пассажиров в зависимости от того класса, в котором они были. Из него можно найти подтверждение результатам нашей логистической регрессии, а именно то, что чем ниже класс билета, тем больше вероятность погибнуть."
   ]
  },
  {
   "cell_type": "code",
   "execution_count": 146,
   "id": "b1e7caaf",
   "metadata": {},
   "outputs": [
    {
     "data": {
      "text/plain": [
       "Text(0.5, 1.0, 'Выживаемость на Титанике\\nв зависимости от класса')"
      ]
     },
     "execution_count": 146,
     "metadata": {},
     "output_type": "execute_result"
    },
    {
     "data": {
      "image/png": "[encoded data removed]",
      "text/plain": [
       "<Figure size 432x288 with 1 Axes>"
      ]
     },
     "metadata": {
      "needs_background": "light"
     },
     "output_type": "display_data"
    }
   ],
   "source": [
    "sns.countplot (x='Survived', data = titanic, hue='Pclass', palette = 'magma')\n",
    "plt.ylabel ('Количество')\n",
    "plt.xlabel ('Выжил')\n",
    "plt.title ('Выживаемость на Титанике\\nв зависимости от класса')"
   ]
  },
  {
   "cell_type": "markdown",
   "id": "176461d6",
   "metadata": {},
   "source": [
    "Далее, давайте построим логистическую регрессию, которая будет показывать, как такие биномиальные предикторы, как класс и пол, а также количественный предиктор возраста пассажира, связаны с тем, выжил пассажир или нет. Также с помощью значимости коэффициентов можно будет сделать вывод о статистической значимости того или иного предиктора. Мы строим логистическую регрессию для того, чтобы перейти от биномиальных значений (0 и 1) в зависимой переменной к логарифму шанса, который изменяется от минус бесконечности до плюс бесконечности. "
   ]
  },
  {
   "cell_type": "code",
   "execution_count": 147,
   "id": "80e27376",
   "metadata": {},
   "outputs": [],
   "source": [
    "results = sf.glm('Survived ~ C(Pclass) + C(Sex) + Age', titanic, family = sm.families.Binomial()).fit()"
   ]
  },
  {
   "cell_type": "code",
   "execution_count": 148,
   "id": "b0823dbd",
   "metadata": {},
   "outputs": [
    {
     "data": {
      "text/html": [
       "<table class=\"simpletable\">\n",
       "<caption>Generalized Linear Model Regression Results</caption>\n",
       "<tr>\n",
       "  <th>Dep. Variable:</th>       <td>Survived</td>     <th>  No. Observations:  </th>  <td>   887</td> \n",
       "</tr>\n",
       "<tr>\n",
       "  <th>Model:</th>                  <td>GLM</td>       <th>  Df Residuals:      </th>  <td>   882</td> \n",
       "</tr>\n",
       "<tr>\n",
       "  <th>Model Family:</th>        <td>Binomial</td>     <th>  Df Model:          </th>  <td>     4</td> \n",
       "</tr>\n",
       "<tr>\n",
       "  <th>Link Function:</th>         <td>logit</td>      <th>  Scale:             </th> <td>  1.0000</td>\n",
       "</tr>\n",
       "<tr>\n",
       "  <th>Method:</th>                <td>IRLS</td>       <th>  Log-Likelihood:    </th> <td> -400.80</td>\n",
       "</tr>\n",
       "<tr>\n",
       "  <th>Date:</th>            <td>Mon, 04 Apr 2022</td> <th>  Deviance:          </th> <td>  801.59</td>\n",
       "</tr>\n",
       "<tr>\n",
       "  <th>Time:</th>                <td>18:20:23</td>     <th>  Pearson chi2:      </th>  <td>  932.</td> \n",
       "</tr>\n",
       "<tr>\n",
       "  <th>No. Iterations:</th>          <td>5</td>        <th>                     </th>     <td> </td>   \n",
       "</tr>\n",
       "<tr>\n",
       "  <th>Covariance Type:</th>     <td>nonrobust</td>    <th>                     </th>     <td> </td>   \n",
       "</tr>\n",
       "</table>\n",
       "<table class=\"simpletable\">\n",
       "<tr>\n",
       "         <td></td>           <th>coef</th>     <th>std err</th>      <th>z</th>      <th>P>|z|</th>  <th>[0.025</th>    <th>0.975]</th>  \n",
       "</tr>\n",
       "<tr>\n",
       "  <th>Intercept</th>      <td>    3.6349</td> <td>    0.370</td> <td>    9.812</td> <td> 0.000</td> <td>    2.909</td> <td>    4.361</td>\n",
       "</tr>\n",
       "<tr>\n",
       "  <th>C(Pclass)[T.2]</th> <td>   -1.1991</td> <td>    0.262</td> <td>   -4.584</td> <td> 0.000</td> <td>   -1.712</td> <td>   -0.686</td>\n",
       "</tr>\n",
       "<tr>\n",
       "  <th>C(Pclass)[T.3]</th> <td>   -2.4554</td> <td>    0.253</td> <td>   -9.697</td> <td> 0.000</td> <td>   -2.952</td> <td>   -1.959</td>\n",
       "</tr>\n",
       "<tr>\n",
       "  <th>C(Sex)[T.male]</th> <td>   -2.5887</td> <td>    0.187</td> <td>  -13.843</td> <td> 0.000</td> <td>   -2.955</td> <td>   -2.222</td>\n",
       "</tr>\n",
       "<tr>\n",
       "  <th>Age</th>            <td>   -0.0343</td> <td>    0.007</td> <td>   -4.787</td> <td> 0.000</td> <td>   -0.048</td> <td>   -0.020</td>\n",
       "</tr>\n",
       "</table>"
      ],
      "text/plain": [
       "<class 'statsmodels.iolib.summary.Summary'>\n",
       "\"\"\"\n",
       "                 Generalized Linear Model Regression Results                  \n",
       "==============================================================================\n",
       "Dep. Variable:               Survived   No. Observations:                  887\n",
       "Model:                            GLM   Df Residuals:                      882\n",
       "Model Family:                Binomial   Df Model:                            4\n",
       "Link Function:                  logit   Scale:                          1.0000\n",
       "Method:                          IRLS   Log-Likelihood:                -400.80\n",
       "Date:                Mon, 04 Apr 2022   Deviance:                       801.59\n",
       "Time:                        18:20:23   Pearson chi2:                     932.\n",
       "No. Iterations:                     5                                         \n",
       "Covariance Type:            nonrobust                                         \n",
       "==================================================================================\n",
       "                     coef    std err          z      P>|z|      [0.025      0.975]\n",
       "----------------------------------------------------------------------------------\n",
       "Intercept          3.6349      0.370      9.812      0.000       2.909       4.361\n",
       "C(Pclass)[T.2]    -1.1991      0.262     -4.584      0.000      -1.712      -0.686\n",
       "C(Pclass)[T.3]    -2.4554      0.253     -9.697      0.000      -2.952      -1.959\n",
       "C(Sex)[T.male]    -2.5887      0.187    -13.843      0.000      -2.955      -2.222\n",
       "Age               -0.0343      0.007     -4.787      0.000      -0.048      -0.020\n",
       "==================================================================================\n",
       "\"\"\""
      ]
     },
     "execution_count": 148,
     "metadata": {},
     "output_type": "execute_result"
    }
   ],
   "source": [
    "results.summary()"
   ]
  },
  {
   "cell_type": "markdown",
   "id": "a1c78291",
   "metadata": {},
   "source": [
    "Из результатов построения данной логистической регрессии можно увидеть, что все значения коэффициентов наших предикторов являются статистически значимыми (для всех предикторов p-value очень близок к нулю). \n",
    "Коэффициент в Intercept означает логарифм шанса выжить для женщины из первого класса. Из анализа коэффициентов можно сделать вывод, что чем ниже класс, в котором плыл пассажир, и чем больше его возраст, тем меньше вероятность оказаться выжившим. Аналогично, на Титанике с точки зрения вероятности выжить было сильно хуже быть мужчиной (см. график ниже). Возраст пассажира также имеет обратную взаимосвязь с вероятностью выжить на Титанике.\n",
    "Таким образом, с помощью построения данной логистической регрессии мы определили, что коэффициенты при факторах пола, возраста и класса билета пассажиров являются статистически значимыми."
   ]
  }
 ],
 "metadata": {
  "kernelspec": {
   "display_name": "Python 3",
   "language": "python",
   "name": "python3"
  },
  "language_info": {
   "codemirror_mode": {
    "name": "ipython",
    "version": 3
   },
   "file_extension": ".py",
   "mimetype": "text/x-python",
   "name": "python",
   "nbconvert_exporter": "python",
   "pygments_lexer": "ipython3",
   "version": "3.8.8"
  }
 },
 "nbformat": 4,
 "nbformat_minor": 5
}
